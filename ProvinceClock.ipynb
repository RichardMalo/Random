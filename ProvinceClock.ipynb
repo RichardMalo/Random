{
 "cells": [
  {
   "cell_type": "code",
   "execution_count": 4,
   "metadata": {},
   "outputs": [
    {
     "ename": "KeyboardInterrupt",
     "evalue": "",
     "output_type": "error",
     "traceback": [
      "\u001b[1;31m---------------------------------------------------------------------------\u001b[0m",
      "\u001b[1;31mKeyboardInterrupt\u001b[0m                         Traceback (most recent call last)",
      "Cell \u001b[1;32mIn[4], line 50\u001b[0m\n\u001b[0;32m     46\u001b[0m combo\u001b[39m.\u001b[39mpack()\n\u001b[0;32m     48\u001b[0m tk\u001b[39m.\u001b[39mButton(root, text\u001b[39m=\u001b[39m\u001b[39m\"\u001b[39m\u001b[39mSubmit\u001b[39m\u001b[39m\"\u001b[39m, command\u001b[39m=\u001b[39mshow_data)\u001b[39m.\u001b[39mpack()\n\u001b[1;32m---> 50\u001b[0m root\u001b[39m.\u001b[39;49mmainloop()\n",
      "File \u001b[1;32mq:\\Users\\Home PC\\AppData\\Local\\Programs\\Python\\Python311\\Lib\\tkinter\\__init__.py:1485\u001b[0m, in \u001b[0;36mMisc.mainloop\u001b[1;34m(self, n)\u001b[0m\n\u001b[0;32m   1483\u001b[0m \u001b[39mdef\u001b[39;00m \u001b[39mmainloop\u001b[39m(\u001b[39mself\u001b[39m, n\u001b[39m=\u001b[39m\u001b[39m0\u001b[39m):\n\u001b[0;32m   1484\u001b[0m \u001b[39m    \u001b[39m\u001b[39m\"\"\"Call the mainloop of Tk.\"\"\"\u001b[39;00m\n\u001b[1;32m-> 1485\u001b[0m     \u001b[39mself\u001b[39;49m\u001b[39m.\u001b[39;49mtk\u001b[39m.\u001b[39;49mmainloop(n)\n",
      "\u001b[1;31mKeyboardInterrupt\u001b[0m: "
     ]
    },
    {
     "ename": "",
     "evalue": "",
     "output_type": "error",
     "traceback": [
      "\u001b[1;31mThe Kernel crashed while executing code in the the current cell or a previous cell. Please review the code in the cell(s) to identify a possible cause of the failure. Click <a href='https://aka.ms/vscodeJupyterKernelCrash'>here</a> for more info. View Jupyter <a href='command:jupyter.viewOutput'>log</a> for further details."
     ]
    }
   ],
   "source": [
    "import tkinter as tk\n",
    "from tkinter import ttk, messagebox\n",
    "from datetime import datetime\n",
    "import pytz\n",
    "\n",
    "def fetch_data(province):\n",
    "    data = {\n",
    "        \"Ontario\": {\"capital\": \"Toronto\", \"population\": 14711827, \"timezone\": \"Canada/Eastern\"},\n",
    "        \"Quebec\": {\"capital\": \"Quebec City\", \"population\": 8537674, \"timezone\": \"Canada/Eastern\"},\n",
    "        \"British Columbia\": {\"capital\": \"Victoria\", \"population\": 5110917, \"timezone\": \"Canada/Pacific\"},\n",
    "        \"Alberta\": {\"capital\": \"Edmonton\", \"population\": 4413146, \"timezone\": \"Canada/Mountain\"},\n",
    "        \"Manitoba\": {\"capital\": \"Winnipeg\", \"population\": 1377517, \"timezone\": \"Canada/Central\"},\n",
    "        \"Saskatchewan\": {\"capital\": \"Regina\", \"population\": 1171661, \"timezone\": \"Canada/Saskatchewan\"},\n",
    "        \"Newfoundland and Labrador\": {\"capital\": \"St. John's\", \"population\": 519716, \"timezone\": \"Canada/Newfoundland\"},\n",
    "        \"New Brunswick\": {\"capital\": \"Fredericton\", \"population\": 779993, \"timezone\": \"Canada/Atlantic\"},\n",
    "        \"Nova Scotia\": {\"capital\": \"Halifax\", \"population\": 971395, \"timezone\": \"Canada/Atlantic\"},\n",
    "        \"Prince Edward Island\": {\"capital\": \"Charlottetown\", \"population\": 158158, \"timezone\": \"Canada/Atlantic\"},\n",
    "        \"Yukon\": {\"capital\": \"Whitehorse\", \"population\": 41078, \"timezone\": \"Canada/Pacific\"},\n",
    "        \"Northwest Territories\": {\"capital\": \"Yellowknife\", \"population\": 44904, \"timezone\": \"Canada/Mountain\"},\n",
    "        \"Nunavut\": {\"capital\": \"Iqaluit\", \"population\": 39097, \"timezone\": \"Canada/Eastern\"},\n",
    "        # Some parts of Nunavut are in the Eastern time zone, while others are in the Central time zone.\n",
    "        # For simplicity, I used Eastern here.\n",
    "    }\n",
    "    return data.get(province)\n",
    "\n",
    "def show_data():\n",
    "    province = combo.get()\n",
    "    data = fetch_data(province)\n",
    "    if data:\n",
    "        time_zone = pytz.timezone(data[\"timezone\"])\n",
    "        dt = datetime.now(time_zone)\n",
    "        messagebox.showinfo(province, f\"Capital: {data['capital']}\\n\"\n",
    "                                      f\"Population: {data['population']}\\n\"\n",
    "                                      f\"Current Time: {dt.strftime('%Y-%m-%d %H:%M:%S')}\")\n",
    "    else:\n",
    "        messagebox.showerror(\"Error\", \"Invalid selection.\")\n",
    "\n",
    "root = tk.Tk()\n",
    "\n",
    "tk.Label(root, text=\"Select your province in Canada:\").pack()\n",
    "combo = ttk.Combobox(root)\n",
    "combo['values'] = [\"Ontario\", \"Quebec\", \"British Columbia\", \"Alberta\", \n",
    "                   \"Manitoba\", \"Saskatchewan\", \"Newfoundland and Labrador\",\n",
    "                   \"New Brunswick\", \"Nova Scotia\", \"Prince Edward Island\", \n",
    "                   \"Yukon\", \"Northwest Territories\", \"Nunavut\"]\n",
    "combo.pack()\n",
    "\n",
    "tk.Button(root, text=\"Submit\", command=show_data).pack()\n",
    "\n",
    "root.mainloop()\n",
    "\n"
   ]
  }
 ],
 "metadata": {
  "kernelspec": {
   "display_name": "Python 3",
   "language": "python",
   "name": "python3"
  },
  "language_info": {
   "codemirror_mode": {
    "name": "ipython",
    "version": 3
   },
   "file_extension": ".py",
   "mimetype": "text/x-python",
   "name": "python",
   "nbconvert_exporter": "python",
   "pygments_lexer": "ipython3",
   "version": "3.11.3"
  },
  "orig_nbformat": 4
 },
 "nbformat": 4,
 "nbformat_minor": 2
}
